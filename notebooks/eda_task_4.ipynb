{
 "cells": [
  {
   "cell_type": "code",
   "execution_count": null,
   "metadata": {},
   "outputs": [],
   "source": [
    "# Import necessary libraries\n",
    "import pandas as pd\n",
    "from sklearn.model_selection import train_test_split\n",
    "from sklearn.linear_model import LinearRegression\n",
    "from sklearn.tree import DecisionTreeRegressor\n",
    "from sklearn.ensemble import RandomForestRegressor\n",
    "import xgboost as xgb\n",
    "from sklearn.preprocessing import StandardScaler\n",
    "from sklearn.metrics import mean_squared_error, mean_absolute_error, r2_score\n",
    "from scripts.data_processing import handle_missing_data, encode_categorical_data, feature_engineering\n",
    "from scripts.modeling import evaluate_model, plot_feature_importance\n",
    "import shap\n"
   ]
  },
  {
   "cell_type": "code",
   "execution_count": null,
   "metadata": {},
   "outputs": [],
   "source": [
    "\n",
    "# Load the dataset\n",
    "file_path = '../data/MachineLearningRating_v3.txt'\n",
    "df = pd.read_csv(file_path, delimiter='|')\n",
    "\n"
   ]
  },
  {
   "cell_type": "code",
   "execution_count": null,
   "metadata": {},
   "outputs": [],
   "source": [
    "\n",
    "# Data Preparation\n",
    "# Step 1: Handle missing data\n",
    "df_cleaned = handle_missing_data(df)\n"
   ]
  },
  {
   "cell_type": "code",
   "execution_count": null,
   "metadata": {},
   "outputs": [],
   "source": [
    "\n",
    "# Step 2: Feature Engineering (if necessary)\n",
    "df_cleaned = feature_engineering(df_cleaned)\n",
    "\n"
   ]
  },
  {
   "cell_type": "code",
   "execution_count": null,
   "metadata": {},
   "outputs": [],
   "source": [
    "# Step 3: Encode categorical variables\n",
    "df_encoded = encode_categorical_data(df_cleaned)\n",
    "\n"
   ]
  },
  {
   "cell_type": "code",
   "execution_count": null,
   "metadata": {},
   "outputs": [],
   "source": [
    "# Step 4: Train-test split\n",
    "X = df_encoded.drop(columns=['TotalClaims'])  # Features\n",
    "y = df_encoded['TotalClaims']  # Target variable\n",
    "X_train, X_test, y_train, y_test = train_test_split(X, y, test_size=0.2, random_state=42)\n",
    "\n"
   ]
  },
  {
   "cell_type": "code",
   "execution_count": null,
   "metadata": {},
   "outputs": [],
   "source": [
    "# Standardize features for Linear Regression\n",
    "scaler = StandardScaler()\n",
    "X_train_scaled = scaler.fit_transform(X_train)\n",
    "X_test_scaled = scaler.transform(X_test)\n",
    "\n"
   ]
  },
  {
   "cell_type": "code",
   "execution_count": null,
   "metadata": {},
   "outputs": [],
   "source": [
    "# Model 1: Linear Regression\n",
    "print(\"Training Linear Regression...\")\n",
    "lr_model = LinearRegression()\n",
    "lr_model.fit(X_train_scaled, y_train)\n",
    "y_pred_lr = lr_model.predict(X_test_scaled)\n",
    "print(\"Linear Regression Performance:\")\n",
    "evaluate_model(y_test, y_pred_lr)\n"
   ]
  },
  {
   "cell_type": "code",
   "execution_count": null,
   "metadata": {},
   "outputs": [],
   "source": [
    "\n",
    "# Model 2: Decision Tree\n",
    "print(\"Training Decision Tree...\")\n",
    "tree_model = DecisionTreeRegressor(random_state=42, max_depth=10)  # Limit depth to avoid overfitting\n",
    "tree_model.fit(X_train, y_train)\n",
    "y_pred_tree = tree_model.predict(X_test)\n",
    "print(\"Decision Tree Performance:\")\n",
    "evaluate_model(y_test, y_pred_tree)\n",
    "\n",
    "\n",
    "# Sample a subset of data if the dataset is too large\n",
    "df_sampled = df_encoded.sample(frac=0.1, random_state=42)  # Use 10% of the data\n",
    "X = df_sampled.drop(columns=['TotalClaims'])  # Features\n",
    "y = df_sampled['TotalClaims']  # Target variable\n",
    "\n",
    "# Train-test split\n",
    "X_train, X_test, y_train, y_test = train_test_split(X, y, test_size=0.2, random_state=42)\n",
    "\n"
   ]
  },
  {
   "cell_type": "code",
   "execution_count": null,
   "metadata": {},
   "outputs": [],
   "source": [
    "# Random Forest Model (reduced n_estimators and no max_depth)\n",
    "print(\"Training Random Forest...\")\n",
    "rf_model = RandomForestRegressor(n_estimators=50, random_state=42)\n",
    "rf_model.fit(X_train, y_train)\n",
    "y_pred_rf = rf_model.predict(X_test)\n",
    "print(\"Random Forest Performance:\")\n",
    "evaluate_model(y_test, y_pred_rf)\n",
    "\n",
    "\n",
    "# Model 4: XGBoost\n",
    "# Train-test split\n",
    "X = df_encoded.drop(columns=['TotalClaims'])  # Features\n",
    "y = df_encoded['TotalClaims']  # Target variable\n",
    "X_train, X_test, y_train, y_test = train_test_split(X, y, test_size=0.2, random_state=42)\n",
    "\n",
    "# Convert the datasets into DMatrix, required by XGBoost\n",
    "dtrain = xgb.DMatrix(X_train, label=y_train)\n",
    "dtest = xgb.DMatrix(X_test, label=y_test)\n",
    "\n",
    "# Set XGBoost parameters\n",
    "params = {\n",
    "    'objective': 'reg:squarederror',\n",
    "    'learning_rate': 0.1,\n",
    "    'max_depth': 5,\n",
    "    'random_state': 42,\n",
    "    'eval_metric': 'rmse'  # Root Mean Squared Error\n",
    "}\n",
    "\n",
    "# Train the XGBoost model with early stopping\n",
    "eval_set = [(dtrain, 'train'), (dtest, 'eval')]\n",
    "xgb_model = xgb.train(params, dtrain, num_boost_round=100, evals=eval_set, early_stopping_rounds=10, verbose_eval=False)\n",
    "\n",
    "# Predict on the test set\n",
    "y_pred_xgb = xgb_model.predict(dtest)\n",
    "\n",
    "# Evaluate the model performance\n",
    "print(\"XGBoost Performance:\")\n",
    "evaluate_model(y_test, y_pred_xgb)\n",
    "\n",
    "print(\"Feature Importance Analysis using SHAP...\")\n",
    "explainer = shap.TreeExplainer(rf_model)\n",
    "shap_values = explainer.shap_values(X_train)\n"
   ]
  },
  {
   "cell_type": "code",
   "execution_count": null,
   "metadata": {},
   "outputs": [],
   "source": [
    "\n",
    "# Plot SHAP summary plot\n",
    "shap.summary_plot(shap_values, X_train)\n",
    "\n",
    "# Plot feature importance for Random Forest\n",
    "plot_feature_importance(rf_model, X_train)"
   ]
  }
 ],
 "metadata": {
  "kernelspec": {
   "display_name": "venv",
   "language": "python",
   "name": "python3"
  },
  "language_info": {
   "codemirror_mode": {
    "name": "ipython",
    "version": 3
   },
   "file_extension": ".py",
   "mimetype": "text/x-python",
   "name": "python",
   "nbconvert_exporter": "python",
   "pygments_lexer": "ipython3",
   "version": "3.12.6"
  }
 },
 "nbformat": 4,
 "nbformat_minor": 2
}
