{
 "cells": [
  {
   "cell_type": "code",
   "execution_count": null,
   "metadata": {},
   "outputs": [],
   "source": [
    "# Import necessary libraries\n",
    "from scripts.statistics import segment_data, perform_ttest, perform_chi_square_test, report_hypothesis_result\n",
    "from scripts.data_processing import load_data\n"
   ]
  },
  {
   "cell_type": "code",
   "execution_count": null,
   "metadata": {},
   "outputs": [],
   "source": [
    "# Load the data\n",
    "file_path = '../data/MachineLearningRating_v3.txt'\n",
    "df = load_data(file_path)"
   ]
  },
  {
   "cell_type": "code",
   "execution_count": null,
   "metadata": {},
   "outputs": [],
   "source": [
    "# Hypotheses Testing\n",
    "\n",
    "# 1. Risk Differences Across Provinces (using T-test on 'TotalClaims' feature)\n",
    "control_province = 'Gauteng'\n",
    "test_province = 'Western Cape'\n",
    "control_group, test_group = segment_data(df, 'Province', control_province, test_province)\n",
    "p_value, t_statistic = perform_ttest(control_group, test_group, 'TotalClaims')\n",
    "\n",
    "# Report Result\n",
    "print(f\"Risk Differences Across Provinces (T-test): p-value = {p_value}, t-statistic = {t_statistic}\")\n",
    "print(report_hypothesis_result(p_value))\n",
    "print(\"--------------------------------------------------\")\n",
    "\n"
   ]
  },
  {
   "cell_type": "code",
   "execution_count": null,
   "metadata": {},
   "outputs": [],
   "source": [
    "# 2. Risk Differences Between Zip Codes (using T-test on 'TotalClaims')\n",
    "control_zip = 2000\n",
    "test_zip = 122\n",
    "control_group_zip, test_group_zip = segment_data(df, 'PostalCode', control_zip, test_zip)\n",
    "p_value_zip, t_statistic_zip = perform_ttest(control_group_zip, test_group_zip, 'TotalClaims')\n",
    "\n",
    "# Report Result\n",
    "print(f\"Risk Differences Between Zip Codes (T-test): p-value = {p_value_zip}, t-statistic = {t_statistic_zip}\")\n",
    "print(report_hypothesis_result(p_value_zip))\n",
    "print(\"--------------------------------------------------\")\n",
    "\n",
    "\n"
   ]
  },
  {
   "cell_type": "code",
   "execution_count": null,
   "metadata": {},
   "outputs": [],
   "source": [
    "# 3. Margin Differences Between Zip Codes (using T-test on 'TotalPremium')\n",
    "p_value_margin, t_statistic_margin = perform_ttest(control_group_zip, test_group_zip, 'TotalPremium')\n",
    "\n",
    "# Report Result\n",
    "print(f\"Margin Differences Between Zip Codes (T-test): p-value = {p_value_margin}, t-statistic = {t_statistic_margin}\")\n",
    "print(report_hypothesis_result(p_value_margin))\n",
    "print(\"--------------------------------------------------\")\n",
    "\n"
   ]
  },
  {
   "cell_type": "code",
   "execution_count": null,
   "metadata": {},
   "outputs": [],
   "source": [
    "# 4. Gender-Based Risk Differences (using Chi-square on 'Gender' and 'TotalClaims')\n",
    "p_value_gender, chi2_statistic_gender = perform_chi_square_test(df, 'Gender', 'TotalClaims')\n",
    "\n",
    "# Report Result\n",
    "print(f\"Risk Differences Between Men and Women (Chi-square): p-value = {p_value_gender}, chi2-statistic = {chi2_statistic_gender}\")\n",
    "print(report_hypothesis_result(p_value_gender))"
   ]
  }
 ],
 "metadata": {
  "kernelspec": {
   "display_name": "venv",
   "language": "python",
   "name": "python3"
  },
  "language_info": {
   "codemirror_mode": {
    "name": "ipython",
    "version": 3
   },
   "file_extension": ".py",
   "mimetype": "text/x-python",
   "name": "python",
   "nbconvert_exporter": "python",
   "pygments_lexer": "ipython3",
   "version": "3.12.6"
  }
 },
 "nbformat": 4,
 "nbformat_minor": 2
}
